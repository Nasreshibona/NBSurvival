{
 "cells": [
  {
   "cell_type": "code",
   "execution_count": 7,
   "metadata": {},
   "outputs": [],
   "source": [
    "import pandas as pd\n",
    "import numpy as np"
   ]
  },
  {
   "cell_type": "code",
   "execution_count": 9,
   "metadata": {},
   "outputs": [],
   "source": [
    "# Counts file (Register and Download the file from: http://camda2017.bioinf.jku.at/doku.php/)\n",
    "# The original file name is \"GSE49711_SEQC_NB_MAV_G_log2.20121127.txt\".\"\n",
    "data = pd.read_csv('../data/camda.txt', sep='\\t')"
   ]
  },
  {
   "cell_type": "code",
   "execution_count": 10,
   "metadata": {},
   "outputs": [],
   "source": [
    "# drop un-needed columns\n",
    "data.drop(columns=['#NCBI GeneId','#RefSeq transcript Id','#Chromosome','#Strand','#from base','#to base',\n",
    "                   '#Title','#Measured object'],inplace=True)\n",
    "data=data.set_index('#Gene')"
   ]
  },
  {
   "cell_type": "code",
   "execution_count": null,
   "metadata": {},
   "outputs": [],
   "source": []
  },
  {
   "cell_type": "code",
   "execution_count": 11,
   "metadata": {},
   "outputs": [],
   "source": [
    "# Phenotype file. Certain rownames were renamed\n",
    "gs = pd.read_csv(\"../data/GSE49711_series_matrix.txt\", sep=',')\n",
    "gs = gs.T"
   ]
  },
  {
   "cell_type": "code",
   "execution_count": 12,
   "metadata": {},
   "outputs": [
    {
     "data": {
      "text/plain": [
       "(498, 14)"
      ]
     },
     "execution_count": 12,
     "metadata": {},
     "output_type": "execute_result"
    }
   ],
   "source": [
    "gs.reset_index(drop=False,inplace=True)\n",
    "gs.columns = gs.iloc[0]\n",
    "gs.drop(0, inplace=True)\n",
    "gs.reset_index(drop=True,inplace=True)\n",
    "gs = gs.set_index('Sample_title')\n",
    "gs.shape"
   ]
  },
  {
   "cell_type": "code",
   "execution_count": null,
   "metadata": {},
   "outputs": [],
   "source": []
  },
  {
   "cell_type": "code",
   "execution_count": 13,
   "metadata": {},
   "outputs": [],
   "source": [
    "# Query for high risk samples\n",
    "gs = gs.query('Tissue==\"tissue: neuroblastoma\" & \\\n",
    "               Inss_stage==\"inss stage: 4\" & \\\n",
    "               High_risk==\"high risk: 1\"')"
   ]
  },
  {
   "cell_type": "code",
   "execution_count": 14,
   "metadata": {},
   "outputs": [],
   "source": [
    "ss = []\n",
    "ls = []\n",
    "for i, r in gs.iterrows():\n",
    "    os_d = int(r['Os_day'].split(':')[1].strip())\n",
    "    if os_d < 730:\n",
    "        dt = r['Death_from_disease'].split(':')[1].strip()\n",
    "        if dt == '1':\n",
    "            ss.append(i)\n",
    "    elif os_d > 2555:\n",
    "        dt = r['Death_from_disease'].split(':')[1].strip()\n",
    "        if dt == '0':\n",
    "            ls.append(i)"
   ]
  },
  {
   "cell_type": "code",
   "execution_count": 15,
   "metadata": {},
   "outputs": [
    {
     "name": "stdout",
     "output_type": "stream",
     "text": [
      "len(ss): 42, len(ls): 19\n"
     ]
    }
   ],
   "source": [
    "print('len(ss): {}, len(ls): {}'.format(len(ss), len(ls)))"
   ]
  },
  {
   "cell_type": "code",
   "execution_count": null,
   "metadata": {},
   "outputs": [],
   "source": []
  },
  {
   "cell_type": "code",
   "execution_count": 16,
   "metadata": {},
   "outputs": [],
   "source": [
    "# Create test-set\n",
    "tp = pd.read_csv('../outputs/dge/top_up.csv', sep=',', encoding = \"ISO-8859-1\")\n",
    "dw = pd.read_csv('../outputs/dge/top_down.csv', sep=',', encoding = \"ISO-8859-1\")"
   ]
  },
  {
   "cell_type": "code",
   "execution_count": 17,
   "metadata": {},
   "outputs": [],
   "source": [
    "df = pd.DataFrame()\n",
    "df['sample_id'] = ss + ls\n",
    "df = df.set_index('sample_id')"
   ]
  },
  {
   "cell_type": "code",
   "execution_count": 18,
   "metadata": {},
   "outputs": [],
   "source": [
    "for i, b in enumerate(tp['symbol'].notnull()):\n",
    "    if b:\n",
    "        gene = tp['symbol'].iloc[i]\n",
    "        if gene in data.index:\n",
    "            df[gene] = data.loc[gene, df.index]\n",
    "        \n",
    "for i, b in enumerate(dw['symbol'].notnull()):\n",
    "    if b:\n",
    "        gene = dw['symbol'].iloc[i]\n",
    "        if gene in data.index:\n",
    "            df[gene] = data.loc[gene, df.index]"
   ]
  },
  {
   "cell_type": "code",
   "execution_count": 19,
   "metadata": {},
   "outputs": [],
   "source": [
    "target = []\n",
    "for s in ss:\n",
    "    target.append(0)\n",
    "for s in ls:\n",
    "    target.append(1)\n",
    "\n",
    "df['target'] = target"
   ]
  },
  {
   "cell_type": "code",
   "execution_count": 20,
   "metadata": {},
   "outputs": [
    {
     "data": {
      "text/html": [
       "<div>\n",
       "<style scoped>\n",
       "    .dataframe tbody tr th:only-of-type {\n",
       "        vertical-align: middle;\n",
       "    }\n",
       "\n",
       "    .dataframe tbody tr th {\n",
       "        vertical-align: top;\n",
       "    }\n",
       "\n",
       "    .dataframe thead th {\n",
       "        text-align: right;\n",
       "    }\n",
       "</style>\n",
       "<table border=\"1\" class=\"dataframe\">\n",
       "  <thead>\n",
       "    <tr style=\"text-align: right;\">\n",
       "      <th></th>\n",
       "      <th>EVX2</th>\n",
       "      <th>NHLH2</th>\n",
       "      <th>PRSS12</th>\n",
       "      <th>POU6F2</th>\n",
       "      <th>HOXD10</th>\n",
       "      <th>MAPK15</th>\n",
       "      <th>RTL1</th>\n",
       "      <th>LGR5</th>\n",
       "      <th>DPY19L2P4</th>\n",
       "      <th>STRA6</th>\n",
       "      <th>...</th>\n",
       "      <th>NBAS</th>\n",
       "      <th>HIST1H1E</th>\n",
       "      <th>CRYAB</th>\n",
       "      <th>NXPH3</th>\n",
       "      <th>MYL3</th>\n",
       "      <th>CMYA5</th>\n",
       "      <th>AMIGO2</th>\n",
       "      <th>EDIL3</th>\n",
       "      <th>UBC</th>\n",
       "      <th>target</th>\n",
       "    </tr>\n",
       "    <tr>\n",
       "      <th>sample_id</th>\n",
       "      <th></th>\n",
       "      <th></th>\n",
       "      <th></th>\n",
       "      <th></th>\n",
       "      <th></th>\n",
       "      <th></th>\n",
       "      <th></th>\n",
       "      <th></th>\n",
       "      <th></th>\n",
       "      <th></th>\n",
       "      <th></th>\n",
       "      <th></th>\n",
       "      <th></th>\n",
       "      <th></th>\n",
       "      <th></th>\n",
       "      <th></th>\n",
       "      <th></th>\n",
       "      <th></th>\n",
       "      <th></th>\n",
       "      <th></th>\n",
       "      <th></th>\n",
       "    </tr>\n",
       "  </thead>\n",
       "  <tbody>\n",
       "    <tr>\n",
       "      <th>SEQC_NB005</th>\n",
       "      <td>11.96</td>\n",
       "      <td>13.40</td>\n",
       "      <td>17.92</td>\n",
       "      <td>0.00</td>\n",
       "      <td>16.16</td>\n",
       "      <td>9.62</td>\n",
       "      <td>10.80</td>\n",
       "      <td>13.39</td>\n",
       "      <td>12.39</td>\n",
       "      <td>15.54</td>\n",
       "      <td>...</td>\n",
       "      <td>14.60</td>\n",
       "      <td>7.14</td>\n",
       "      <td>16.46</td>\n",
       "      <td>7.71</td>\n",
       "      <td>11.44</td>\n",
       "      <td>14.34</td>\n",
       "      <td>9.21</td>\n",
       "      <td>15.45</td>\n",
       "      <td>14.41</td>\n",
       "      <td>0</td>\n",
       "    </tr>\n",
       "    <tr>\n",
       "      <th>SEQC_NB013</th>\n",
       "      <td>0.00</td>\n",
       "      <td>0.00</td>\n",
       "      <td>9.99</td>\n",
       "      <td>8.97</td>\n",
       "      <td>11.17</td>\n",
       "      <td>9.08</td>\n",
       "      <td>14.82</td>\n",
       "      <td>11.00</td>\n",
       "      <td>9.70</td>\n",
       "      <td>10.78</td>\n",
       "      <td>...</td>\n",
       "      <td>14.97</td>\n",
       "      <td>7.94</td>\n",
       "      <td>15.47</td>\n",
       "      <td>14.87</td>\n",
       "      <td>9.88</td>\n",
       "      <td>10.03</td>\n",
       "      <td>15.35</td>\n",
       "      <td>13.32</td>\n",
       "      <td>15.20</td>\n",
       "      <td>0</td>\n",
       "    </tr>\n",
       "    <tr>\n",
       "      <th>SEQC_NB242</th>\n",
       "      <td>13.75</td>\n",
       "      <td>15.14</td>\n",
       "      <td>17.53</td>\n",
       "      <td>5.26</td>\n",
       "      <td>13.35</td>\n",
       "      <td>5.10</td>\n",
       "      <td>10.92</td>\n",
       "      <td>8.42</td>\n",
       "      <td>7.30</td>\n",
       "      <td>14.78</td>\n",
       "      <td>...</td>\n",
       "      <td>15.20</td>\n",
       "      <td>10.80</td>\n",
       "      <td>11.89</td>\n",
       "      <td>10.88</td>\n",
       "      <td>3.73</td>\n",
       "      <td>7.85</td>\n",
       "      <td>8.96</td>\n",
       "      <td>9.04</td>\n",
       "      <td>14.06</td>\n",
       "      <td>0</td>\n",
       "    </tr>\n",
       "    <tr>\n",
       "      <th>SEQC_NB244</th>\n",
       "      <td>7.60</td>\n",
       "      <td>11.03</td>\n",
       "      <td>10.24</td>\n",
       "      <td>6.29</td>\n",
       "      <td>8.91</td>\n",
       "      <td>9.23</td>\n",
       "      <td>16.90</td>\n",
       "      <td>7.94</td>\n",
       "      <td>10.08</td>\n",
       "      <td>11.76</td>\n",
       "      <td>...</td>\n",
       "      <td>14.51</td>\n",
       "      <td>2.93</td>\n",
       "      <td>17.14</td>\n",
       "      <td>13.84</td>\n",
       "      <td>10.59</td>\n",
       "      <td>11.09</td>\n",
       "      <td>15.92</td>\n",
       "      <td>16.97</td>\n",
       "      <td>15.37</td>\n",
       "      <td>0</td>\n",
       "    </tr>\n",
       "    <tr>\n",
       "      <th>SEQC_NB255</th>\n",
       "      <td>0.00</td>\n",
       "      <td>5.63</td>\n",
       "      <td>9.80</td>\n",
       "      <td>6.95</td>\n",
       "      <td>3.23</td>\n",
       "      <td>10.19</td>\n",
       "      <td>12.65</td>\n",
       "      <td>9.07</td>\n",
       "      <td>10.56</td>\n",
       "      <td>10.89</td>\n",
       "      <td>...</td>\n",
       "      <td>15.81</td>\n",
       "      <td>9.16</td>\n",
       "      <td>13.54</td>\n",
       "      <td>11.19</td>\n",
       "      <td>9.06</td>\n",
       "      <td>9.62</td>\n",
       "      <td>12.86</td>\n",
       "      <td>14.68</td>\n",
       "      <td>14.84</td>\n",
       "      <td>0</td>\n",
       "    </tr>\n",
       "  </tbody>\n",
       "</table>\n",
       "<p>5 rows × 26 columns</p>\n",
       "</div>"
      ],
      "text/plain": [
       "             EVX2  NHLH2  PRSS12  POU6F2  HOXD10  MAPK15   RTL1   LGR5  \\\n",
       "sample_id                                                                \n",
       "SEQC_NB005  11.96  13.40   17.92    0.00   16.16    9.62  10.80  13.39   \n",
       "SEQC_NB013   0.00   0.00    9.99    8.97   11.17    9.08  14.82  11.00   \n",
       "SEQC_NB242  13.75  15.14   17.53    5.26   13.35    5.10  10.92   8.42   \n",
       "SEQC_NB244   7.60  11.03   10.24    6.29    8.91    9.23  16.90   7.94   \n",
       "SEQC_NB255   0.00   5.63    9.80    6.95    3.23   10.19  12.65   9.07   \n",
       "\n",
       "            DPY19L2P4  STRA6  ...   NBAS  HIST1H1E  CRYAB  NXPH3   MYL3  \\\n",
       "sample_id                     ...                                         \n",
       "SEQC_NB005      12.39  15.54  ...  14.60      7.14  16.46   7.71  11.44   \n",
       "SEQC_NB013       9.70  10.78  ...  14.97      7.94  15.47  14.87   9.88   \n",
       "SEQC_NB242       7.30  14.78  ...  15.20     10.80  11.89  10.88   3.73   \n",
       "SEQC_NB244      10.08  11.76  ...  14.51      2.93  17.14  13.84  10.59   \n",
       "SEQC_NB255      10.56  10.89  ...  15.81      9.16  13.54  11.19   9.06   \n",
       "\n",
       "            CMYA5  AMIGO2  EDIL3    UBC  target  \n",
       "sample_id                                        \n",
       "SEQC_NB005  14.34    9.21  15.45  14.41       0  \n",
       "SEQC_NB013  10.03   15.35  13.32  15.20       0  \n",
       "SEQC_NB242   7.85    8.96   9.04  14.06       0  \n",
       "SEQC_NB244  11.09   15.92  16.97  15.37       0  \n",
       "SEQC_NB255   9.62   12.86  14.68  14.84       0  \n",
       "\n",
       "[5 rows x 26 columns]"
      ]
     },
     "execution_count": 20,
     "metadata": {},
     "output_type": "execute_result"
    }
   ],
   "source": [
    "df.head()"
   ]
  },
  {
   "cell_type": "code",
   "execution_count": 21,
   "metadata": {},
   "outputs": [],
   "source": [
    "df.to_csv(\"../outputs/camda-test-set.csv\")"
   ]
  },
  {
   "cell_type": "code",
   "execution_count": null,
   "metadata": {},
   "outputs": [],
   "source": []
  }
 ],
 "metadata": {
  "kernelspec": {
   "display_name": "Python 3",
   "language": "python",
   "name": "python3"
  },
  "language_info": {
   "codemirror_mode": {
    "name": "ipython",
    "version": 3
   },
   "file_extension": ".py",
   "mimetype": "text/x-python",
   "name": "python",
   "nbconvert_exporter": "python",
   "pygments_lexer": "ipython3",
   "version": "3.7.3"
  }
 },
 "nbformat": 4,
 "nbformat_minor": 2
}
